{
 "cells": [
  {
   "cell_type": "code",
   "execution_count": 4,
   "id": "218c880d-957c-4974-b44b-46a1ca01a60d",
   "metadata": {},
   "outputs": [],
   "source": [
    "#Chatbot using NLP"
   ]
  },
  {
   "cell_type": "code",
   "execution_count": 3,
   "id": "33f163bf-dad6-47df-8f59-438a8c5a1450",
   "metadata": {},
   "outputs": [],
   "source": [
    "# Importing necessary libraries\n",
    "import nltk\n",
    "import random\n",
    "import os\n",
    "import ssl\n",
    "import streamlit as st\n",
    "from sklearn.feature_extraction.text import TfidfVectorizer\n",
    "from sklearn.linear_model import LogisticRegression\n"
   ]
  },
  {
   "cell_type": "code",
   "execution_count": 5,
   "id": "595fba45-a424-4561-90a7-e85c1d4b44a4",
   "metadata": {},
   "outputs": [
    {
     "name": "stderr",
     "output_type": "stream",
     "text": [
      "[nltk_data] Downloading package punkt to\n",
      "[nltk_data]     C:\\Users\\Mansi\\AppData\\Roaming\\nltk_data...\n",
      "[nltk_data]   Package punkt is already up-to-date!\n"
     ]
    },
    {
     "data": {
      "text/plain": [
       "True"
      ]
     },
     "execution_count": 5,
     "metadata": {},
     "output_type": "execute_result"
    }
   ],
   "source": [
    "ssl._create_default_https_context = ssl._create_unverified_context\n",
    "nltk.data.path.append(os.path.abspath('nltk_data'))\n",
    "nltk.download('punkt')"
   ]
  },
  {
   "cell_type": "code",
   "execution_count": 8,
   "id": "260e13e4-4629-417f-9eff-5e50c475739c",
   "metadata": {},
   "outputs": [],
   "source": [
    "intents = [\n",
    "    {\n",
    "        'tag': 'greeting',\n",
    "        'patterns': ['Hi', 'Hello', 'Hey', 'Whats up', 'How are you', 'Good morning', 'Good evening'],\n",
    "        'responses': ['Hi there!', 'Hello, how can I assist you?', 'Hey, how’s it going?', 'Good morning! How can I help?', 'Good evening, how are you doing?']\n",
    "    },\n",
    "    {\n",
    "        'tag': 'goodbye',\n",
    "        'patterns': ['Bye', 'See you later', 'Goodbye', 'Take care', 'Catch you later'],\n",
    "        'responses': ['Goodbye!', 'See you next time!', 'Take care!', 'Catch you later!', 'Have a great day!']\n",
    "    },\n",
    "    {\n",
    "        'tag': 'thanks',\n",
    "        'patterns': ['Thank you', 'Thanks', 'Thanks a lot', 'I appreciate it', 'Thanks so much'],\n",
    "        'responses': ['You\\'re welcome!', 'No worries!', 'Glad to help!', 'Anytime!', 'You got it!']\n",
    "    },\n",
    "    {\n",
    "        'tag': 'about',\n",
    "        'patterns': ['What can you do', 'Who are you', 'What are you', 'What is your purpose', 'Tell me about yourself'],\n",
    "        'responses': ['I am your friendly chatbot assistant!', 'My purpose is to help with anything you need.', 'I assist with a wide range of tasks and questions.', 'I’m here to make your life easier!']\n",
    "    },\n",
    "    {\n",
    "        'tag': 'help',\n",
    "        'patterns': ['Help', 'I need help', 'Can you help me', 'What should I do', 'I’m stuck'],\n",
    "        'responses': ['Sure, what do you need help with?', 'I’m here to help. What’s the problem?', 'How can I assist you today?', 'Let me know how I can help you!']\n",
    "    },\n",
    "    {\n",
    "        'tag': 'age',\n",
    "        'patterns': ['How old are you', 'What\\'s your age', 'When were you created', 'Are you old?'],\n",
    "        'responses': ['I don’t have an age like humans do. I live in the digital world.', 'I was created in the digital realm, so no age for me!', 'Age is just a number for me.']\n",
    "    },\n",
    "    {\n",
    "        'tag': 'weather',\n",
    "        'patterns': ['What\\'s the weather like', 'How\\'s the weather today', 'Is it raining', 'Will it snow today'],\n",
    "        'responses': ['I’m sorry, I can’t check the weather for you.', 'Check a weather app for the most accurate information!', 'I can’t access live weather updates, but a quick search will help!']\n",
    "    },\n",
    "    {\n",
    "        'tag': 'budget',\n",
    "        'patterns': ['How can I make a budget', 'What\\'s a good budgeting strategy', 'How do I create a budget', 'Can you help me manage my money'],\n",
    "        'responses': ['Start by tracking your income and expenses. Set aside funds for necessities, savings, and some fun too!', 'The 50/30/20 rule is a great strategy for budgeting. 50% for essentials, 30% for discretionary, and 20% for savings/debt.', 'Identify your financial goals, track your spending, and allocate income for essentials and savings.']\n",
    "    },\n",
    "    {\n",
    "        'tag': 'credit_score',\n",
    "        'patterns': ['What is a credit score', 'How do I check my credit score', 'How can I improve my credit score', 'What affects my credit score'],\n",
    "        'responses': ['A credit score is a number that represents your creditworthiness based on your financial history.', 'You can check your credit score on free sites like Credit Karma or through your bank.', 'To improve your credit score, focus on paying bills on time, reducing debt, and checking your credit report for errors.']\n",
    "    },\n",
    "    {\n",
    "        'tag': 'fitness',\n",
    "        'patterns': ['How do I get fit', 'What should I eat to be healthier', 'How can I lose weight', 'Can you suggest a workout'],\n",
    "        'responses': ['Start with regular exercise and balanced meals. Aim for a mix of cardio, strength training, and flexibility exercises.', 'For a healthy lifestyle, focus on whole foods, regular exercise, and staying hydrated.', 'A good workout routine includes cardio, strength exercises, and rest days. Start slow and gradually increase intensity.']\n",
    "    },\n",
    "    {\n",
    "        'tag': 'motivation',\n",
    "        'patterns': ['I need motivation', 'I\\'m feeling unmotivated', 'Can you inspire me', 'Give me some advice'],\n",
    "        'responses': ['You’ve got this! Remember, small steps lead to big changes.', 'Don’t give up! Every day is a new chance to start fresh.', 'Believe in yourself. Progress is progress, no matter how small!']\n",
    "    },\n",
    "    {\n",
    "        'tag': 'time',\n",
    "        'patterns': ['What time is it', 'Can you tell me the time', 'What’s the current time', 'What’s the time now'],\n",
    "        'responses': ['I’m unable to provide real-time data, but you can check your device for the current time!', 'You can always check the time on your phone or watch!']\n",
    "    },\n",
    "    {\n",
    "        'tag': 'vacation',\n",
    "        'patterns': ['Where should I go on vacation', 'Can you suggest a travel destination', 'What’s a good place to visit', 'I want to travel, where to go'],\n",
    "        'responses': ['How about a tropical beach or a scenic mountain retreat? Let me know what you like!', 'There are many great vacation spots depending on your interests. Do you like beaches, cities, or nature?', 'A visit to a national park or a cultural city might be great. What type of vacation are you looking for?']\n",
    "    },\n",
    "    {\n",
    "        'tag': 'learning',\n",
    "        'patterns': ['How can I learn something new', 'What’s the best way to learn', 'I want to learn something new', 'Can you teach me'],\n",
    "        'responses': ['Start with setting clear goals and breaking the learning process into small steps.', 'There are many ways to learn: books, online courses, and hands-on experience. Find what works for you!', 'The key to learning is consistency. Stay curious and keep practicing!']\n",
    "    },\n",
    "    {\n",
    "        'tag': 'relationship',\n",
    "        'patterns': ['Can you give me relationship advice', 'What do I do if I’m having relationship problems', 'How can I improve my relationship'],\n",
    "        'responses': ['Communication is key! Make sure to talk openly with your partner about your feelings.', 'Relationships require trust, respect, and empathy. Listen and understand each other’s needs.', 'Remember to make time for each other and prioritize your bond. Relationships take work, but they’re worth it!']\n",
    "    },\n",
    "    {\n",
    "        'tag': 'sleep',\n",
    "        'patterns': ['How do I sleep better', 'What can I do if I can’t sleep', 'I have trouble sleeping', 'Can you help me sleep'],\n",
    "        'responses': ['Try a bedtime routine: limit screen time, stay relaxed, and create a comfortable environment.', 'A calming environment, like soft lighting and a quiet room, helps. Also, try not to drink caffeine too late.', 'Sleep hygiene is important. Consistency in your sleep schedule, limiting naps, and winding down before bed are helpful!']\n",
    "    },\n",
    "    {\n",
    "        'tag': 'productivity',\n",
    "        'patterns': ['How do I stay productive', 'I can’t focus on my work', 'How do I get things done', 'Can you help me with productivity'],\n",
    "        'responses': ['Set clear goals, break tasks into smaller chunks, and take regular breaks. Start with the hardest task first!', 'Eliminate distractions, prioritize your tasks, and use productivity techniques like Pomodoro.', 'Stay organized! Use tools like to-do lists, and track your progress. Small, consistent efforts lead to big results!']\n",
    "    }\n",
    "]\n"
   ]
  }
 ],
 "metadata": {
  "kernelspec": {
   "display_name": "Python 3 (ipykernel)",
   "language": "python",
   "name": "python3"
  },
  "language_info": {
   "codemirror_mode": {
    "name": "ipython",
    "version": 3
   },
   "file_extension": ".py",
   "mimetype": "text/x-python",
   "name": "python",
   "nbconvert_exporter": "python",
   "pygments_lexer": "ipython3",
   "version": "3.12.7"
  }
 },
 "nbformat": 4,
 "nbformat_minor": 5
}
